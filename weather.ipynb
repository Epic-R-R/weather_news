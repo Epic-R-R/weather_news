{
 "cells": [
  {
   "cell_type": "markdown",
   "id": "63d38b5b-4532-4035-b417-05326c406426",
   "metadata": {},
   "source": [
    "# Weather news\n",
    "**Created by mrpintime**"
   ]
  },
  {
   "cell_type": "markdown",
   "id": "e003d451-48a0-438d-984a-dd31df69cb2d",
   "metadata": {},
   "source": [
    "webscraping project"
   ]
  },
  {
   "cell_type": "markdown",
   "id": "c55e23fc-4231-4481-aa84-1e668c461489",
   "metadata": {
    "tags": []
   },
   "source": [
    "## get information about weather of choosing location from google\n"
   ]
  },
  {
   "cell_type": "code",
   "execution_count": 25,
   "id": "4d05bc91-4663-47eb-9b53-a8289e9295f3",
   "metadata": {},
   "outputs": [
    {
     "name": "stderr",
     "output_type": "stream",
     "text": [
      "Searching: /                                                                   \r"
     ]
    },
    {
     "name": "stdout",
     "output_type": "stream",
     "text": [
      "\n",
      "\n",
      "    Location: Weather\n",
      "    Day and Time Zone of location: Saturday 19:00\n",
      "    ===================================\n",
      "    Weather description: Clear with periodic clouds\n",
      "    Humidity: {'Humidity': '41%'}\n",
      "    Temprature: {'°C': '10', '°F': '50'}\n",
      "    Precipitation: {'Precipitation': '1%'}\n",
      "    Wind speed: {'Wind': ['11 km/h', '7 mph']}\n",
      "    \n"
     ]
    }
   ],
   "source": [
    "from bs4 import BeautifulSoup\n",
    "from time import sleep\n",
    "import progressbar\n",
    "import requests\n",
    "\n",
    "def weather(city):\n",
    "    headers = {\n",
    "        'User-Agent': 'Mozilla/5.0 (Windows NT 10.0; Win64; x64) AppleWebKit/537.36 (KHTML, like Gecko) Chrome/58.0.3029.110 Safari/537.3'\n",
    "    }\n",
    "    params  = {\"q\":f\"{city}weather\"}\n",
    "    res = requests.get(\n",
    "        f'https://www.google.com/search', headers=headers, params=params)\n",
    "    soup = BeautifulSoup(res.text, 'html.parser')\n",
    "    all_data = soup.find(\"div\", {\"class\":\"nawv0d\"})\n",
    "    loading_bar()\n",
    "    # right now weather \n",
    "    #Temprature\n",
    "    tmp = list(all_data.find(\"div\",{\"class\":\"vk_bk TylWce SGNhVe\"}).children)\n",
    "    temp = {\"°C\": tmp[0].text, \"°F\":tmp[1].text}\n",
    "    #Image\n",
    "    img = all_data.find(\"img\", {\"class\":\"wob_tci\"})\n",
    "    # image = img[\"src\"] \n",
    "    image_dec = img[\"alt\"]\n",
    "    # Humidity, precipitation, wind\n",
    "    hpw = all_data.find(\"div\", {\"class\":\"wtsRwe\"}).text.split(\":\")\n",
    "    precipitation = {hpw[0] : hpw[1].split(\"%\")[0].strip()+\"%\"}\n",
    "    humidity = {hpw[1].split(\"%\")[1].strip() : hpw[2].split(\"%\")[0].strip()+\"%\"}\n",
    "    wind = {hpw[2].split(\"%\")[1].strip() : [hpw[3][0:hpw[3].index(\"h\")+1].strip(), hpw[3][hpw[3].index(\"h\")+1:] ]}\n",
    "    # Location, Time\n",
    "    loc = all_data.find(\"div\", {\"class\":\"wob_loc q8U8x\"})\n",
    "    location = loc.text\n",
    "    time = loc.next_sibling.text\n",
    "    print(f\"\"\"\n",
    "    Location: {location}\n",
    "    Day and Time Zone of location: {time}\n",
    "    {'=' * 35}\n",
    "    Weather description: {image_dec}\n",
    "    Humidity: {humidity}\n",
    "    Temprature: {temp}\n",
    "    Precipitation: {precipitation}\n",
    "    Wind speed: {wind}\n",
    "    \"\"\")\n",
    "\n",
    "\n",
    "def loading_bar():\n",
    "    widgets = ['Searching: ', progressbar.AnimatedMarker()]\n",
    "    bar = progressbar.ProgressBar(widgets=widgets).start()\n",
    "    for i in range(10):\n",
    "        sleep(0.1)\n",
    "        bar.update(1)\n",
    "    print(\"\")\n",
    "\n",
    "if __name__ == \"__main__\":    \n",
    "    try:\n",
    "        # TODO : create better user interface\n",
    "        city = input(\"Enter your location:\")\n",
    "        weather(city) \n",
    "    except Exception as e:\n",
    "        print(\"Oooops!! Somting wrong, check your location input\")"
   ]
  }
 ],
 "metadata": {
  "kernelspec": {
   "display_name": "Python 3 (ipykernel)",
   "language": "python",
   "name": "python3"
  },
  "language_info": {
   "codemirror_mode": {
    "name": "ipython",
    "version": 3
   },
   "file_extension": ".py",
   "mimetype": "text/x-python",
   "name": "python",
   "nbconvert_exporter": "python",
   "pygments_lexer": "ipython3",
   "version": "3.10.6"
  }
 },
 "nbformat": 4,
 "nbformat_minor": 5
}
