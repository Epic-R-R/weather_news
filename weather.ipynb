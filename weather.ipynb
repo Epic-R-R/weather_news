{
 "cells": [
  {
   "cell_type": "markdown",
   "id": "63d38b5b-4532-4035-b417-05326c406426",
   "metadata": {},
   "source": [
    "# Weather news\n",
    "**Created by mrpintime**"
   ]
  },
  {
   "cell_type": "markdown",
   "id": "c55e23fc-4231-4481-aa84-1e668c461489",
   "metadata": {
    "tags": []
   },
   "source": [
    "## get information about weather of choosing location from google\n"
   ]
  },
  {
   "cell_type": "code",
   "execution_count": 1,
   "id": "4d05bc91-4663-47eb-9b53-a8289e9295f3",
   "metadata": {},
   "outputs": [
    {
     "name": "stdin",
     "output_type": "stream",
     "text": [
      "Enter your location: Tokyo\n"
     ]
    },
    {
     "name": "stderr",
     "output_type": "stream",
     "text": [
      "Searching: \\                                                                   "
     ]
    },
    {
     "name": "stdout",
     "output_type": "stream",
     "text": [
      "\n",
      "Location ===>  Tokyo, Giappone\n",
      "Day and Time Zone of location ===> domenica 03:00\n",
      "***********************************\n",
      "Weather description:  Sereno\n",
      "Humidity:  {'Umidità': '47%'}\n",
      "Temprature:  {'°C': '-1', '°F': '31'}\n",
      "Precipitation:  {'Precipitazioni': '10%'}\n",
      "Wind speed:  {'Vento': ['5 km/h', '3 mph']}\n"
     ]
    }
   ],
   "source": [
    "from bs4 import BeautifulSoup\n",
    "from time import sleep\n",
    "import progressbar\n",
    "import requests\n",
    "\n",
    "\n",
    "\n",
    "headers = {\n",
    "    'User-Agent': 'Mozilla/5.0 (Windows NT 10.0; Win64; x64) AppleWebKit/537.36 (KHTML, like Gecko) Chrome/58.0.3029.110 Safari/537.3'}\n",
    "\n",
    "def weather(city):\n",
    "    city = city + \"weather\"\n",
    "    params  = {\"q\":city}\n",
    "    res = requests.get(\n",
    "        f'https://www.google.com/search', headers=headers, params=params)\n",
    "    soup = BeautifulSoup(res.text, 'html.parser')\n",
    "    all_data = soup.find(\"div\", {\"class\":\"nawv0d\"})\n",
    "    loading_bar()\n",
    "    \n",
    "    # right now weather \n",
    "    #Temprature\n",
    "    tmp = list(all_data.find(\"div\",{\"class\":\"vk_bk TylWce SGNhVe\"}).children)\n",
    "    temp = {\"°C\": tmp[0].text, \"°F\":tmp[1].text}\n",
    "\n",
    "    #Image\n",
    "    img = all_data.find(\"img\", {\"class\":\"wob_tci\"})\n",
    "    # image = img[\"src\"] \n",
    "    image_dec = img[\"alt\"]\n",
    "    \n",
    "    # Humidity, precipitation, wind\n",
    "    hpw = all_data.find(\"div\", {\"class\":\"wtsRwe\"}).text.split(\":\")\n",
    "    precipitation = {hpw[0] : hpw[1].split(\"%\")[0].strip()+\"%\"}\n",
    "    humidity = {hpw[1].split(\"%\")[1].strip() : hpw[2].split(\"%\")[0].strip()+\"%\"}\n",
    "    wind = {hpw[2].split(\"%\")[1].strip() : [hpw[3][0:hpw[3].index(\"h\")+1].strip(), hpw[3][hpw[3].index(\"h\")+1:] ]}\n",
    "\n",
    "    # Location, Time\n",
    "    loc = all_data.find(\"div\", {\"class\":\"wob_loc q8U8x\"})\n",
    "    location = loc.text\n",
    "    time = loc.next_sibling.text\n",
    "\n",
    "    print(\"Location ===> \", location)\n",
    "    print(\"Day and Time Zone of location ===>\", time)\n",
    "    print(35*\"*\")\n",
    "    print(\"Weather description: \", image_dec)\n",
    "    print(\"Humidity: \", humidity)\n",
    "    print(\"Temprature: \", temp)\n",
    "    print(\"Precipitation: \", precipitation)\n",
    "    print(\"Wind speed: \", wind)\n",
    "    \n",
    "\n",
    "\n",
    "def loading_bar():\n",
    "     \n",
    "    widgets = ['Searching: ', progressbar.AnimatedMarker()]\n",
    "    bar = progressbar.ProgressBar(widgets=widgets).start()\n",
    "     \n",
    "    for i in range(10):\n",
    "        sleep(0.1)\n",
    "        bar.update(1)\n",
    "    print(\"\")\n",
    "    \n",
    "\n",
    "# Main loop\n",
    "while True:\n",
    "    \n",
    "    try:\n",
    "        # TODO : create better user interface\n",
    "        city = input(\"Enter your location:\")\n",
    "        city = city.strip()\n",
    "        weather(city) \n",
    "    except Exception as e:\n",
    "        print(\"Oooops!! Sorry there was an error please try again later! or check your input\")\n",
    "        break\n",
    "    else:\n",
    "        break"
   ]
  },
  {
   "cell_type": "code",
   "execution_count": null,
   "id": "f8e813b0-37e9-4c22-8c36-53a397caff00",
   "metadata": {},
   "outputs": [],
   "source": []
  }
 ],
 "metadata": {
  "kernelspec": {
   "display_name": "casa",
   "language": "python",
   "name": "casa"
  },
  "language_info": {
   "codemirror_mode": {
    "name": "ipython",
    "version": 3
   },
   "file_extension": ".py",
   "mimetype": "text/x-python",
   "name": "python",
   "nbconvert_exporter": "python",
   "pygments_lexer": "ipython3",
   "version": "3.10.6"
  }
 },
 "nbformat": 4,
 "nbformat_minor": 5
}
